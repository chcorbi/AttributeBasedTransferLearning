{
 "cells": [
  {
   "cell_type": "code",
   "execution_count": 84,
   "metadata": {
    "collapsed": true
   },
   "outputs": [],
   "source": [
    "import numpy as np\n",
    "import pickle as cPickle\n",
    "import bz2"
   ]
  },
  {
   "cell_type": "code",
   "execution_count": 91,
   "metadata": {
    "collapsed": true
   },
   "outputs": [],
   "source": [
    "def bzPickle(obj,filename):\n",
    "    f = bz2.BZ2File(filename, 'wb')\n",
    "    cPickle.dump(obj, f)\n",
    "    f.close()"
   ]
  },
  {
   "cell_type": "code",
   "execution_count": 92,
   "metadata": {
    "collapsed": true
   },
   "outputs": [],
   "source": [
    "def writeListToTxt (wlist, filename):\n",
    "    with open(filename, 'w') as wfile:\n",
    "        for item in wlist:\n",
    "            wfile.write(\"%s\\n\" % item)"
   ]
  },
  {
   "cell_type": "code",
   "execution_count": 46,
   "metadata": {
    "collapsed": true
   },
   "outputs": [],
   "source": [
    "d = 73"
   ]
  },
  {
   "cell_type": "code",
   "execution_count": 67,
   "metadata": {
    "collapsed": true
   },
   "outputs": [],
   "source": [
    "n = 0\n",
    "with open('pubfig_attributes.txt') as infile:\n",
    "    for i,line in enumerate(infile):\n",
    "        n+=1\n",
    "n = n-2"
   ]
  },
  {
   "cell_type": "code",
   "execution_count": 76,
   "metadata": {
    "collapsed": false
   },
   "outputs": [],
   "source": [
    "attributes = []\n",
    "celebrities = []\n",
    "with open('pubfig_attributes.txt') as infile:\n",
    "    for i,line in enumerate(infile):\n",
    "        if i==0:\n",
    "            continue\n",
    "        elif i==1:\n",
    "            attribute_names = line.strip().split(\"\\t\")[3:]\n",
    "        else:\n",
    "            stripped_line = line.strip().split(\"\\t\")\n",
    "            person = stripped_line[0]\n",
    "            if person not in celebrities:\n",
    "                celebrities.append(person)\n",
    "            line_attribute = [float(x) for x in stripped_line[2:]]\n",
    "            attributes.append(line_attribute)"
   ]
  },
  {
   "cell_type": "code",
   "execution_count": 77,
   "metadata": {
    "collapsed": false
   },
   "outputs": [],
   "source": [
    "attributes_array = np.zeros((n,d))\n",
    "for i in range(n):\n",
    "    attributes_array[i,:] = np.array(attributes[i])"
   ]
  },
  {
   "cell_type": "code",
   "execution_count": 78,
   "metadata": {
    "collapsed": false
   },
   "outputs": [
    {
     "data": {
      "text/plain": [
       "(58797, 73)"
      ]
     },
     "execution_count": 78,
     "metadata": {},
     "output_type": "execute_result"
    }
   ],
   "source": [
    "attributes_array.shape"
   ]
  },
  {
   "cell_type": "code",
   "execution_count": 81,
   "metadata": {
    "collapsed": false
   },
   "outputs": [
    {
     "data": {
      "text/plain": [
       "['Aaron Eckhart',\n",
       " 'Abhishek Bachan',\n",
       " 'Adam Sandler',\n",
       " 'Adriana Lima',\n",
       " 'Alberto Gonzales',\n",
       " 'Alec Baldwin',\n",
       " 'Alex Rodriguez',\n",
       " 'Alicia Keys',\n",
       " 'Ali Landry',\n",
       " 'Alyssa Milano',\n",
       " 'Anderson Cooper',\n",
       " 'Angela Merkel',\n",
       " 'Angelina Jolie',\n",
       " 'Anna Kournikova',\n",
       " 'Anna Paquin',\n",
       " 'Antonio Banderas',\n",
       " 'Ashley Judd',\n",
       " 'Ashton Kutcher',\n",
       " 'Audrey Tautou',\n",
       " 'Avril Lavigne',\n",
       " 'Barack Obama',\n",
       " 'Ben Affleck',\n",
       " 'Ben Stiller',\n",
       " 'Beyonce Knowles',\n",
       " 'Bill Clinton',\n",
       " 'Billy Crystal',\n",
       " 'Bob Dole',\n",
       " 'Brad Pitt',\n",
       " 'Brendan Fraser',\n",
       " 'Bruce Willis',\n",
       " 'Cameron Diaz',\n",
       " 'Carla Gugino',\n",
       " 'Carson Daly',\n",
       " 'Cate Blanchett',\n",
       " 'Celine Dion',\n",
       " 'Charlize Theron',\n",
       " 'Chris Martin',\n",
       " 'Christina Ricci',\n",
       " 'Christopher Walken',\n",
       " 'Cindy Crawford',\n",
       " 'Claudia Schiffer',\n",
       " 'Clive Owen',\n",
       " 'Colin Farrell',\n",
       " 'Colin Powell',\n",
       " 'Cristiano Ronaldo',\n",
       " 'Daisy Fuentes',\n",
       " 'Daniel Craig',\n",
       " 'Daniel Radcliffe',\n",
       " 'Danny Devito',\n",
       " 'Dave Chappelle',\n",
       " 'David Beckham',\n",
       " 'David Duchovny',\n",
       " 'Denise Richards',\n",
       " 'Denzel Washington',\n",
       " 'Diane Sawyer',\n",
       " 'Donald Faison',\n",
       " 'Donald Trump',\n",
       " 'Drew Barrymore',\n",
       " 'Dustin Hoffman',\n",
       " 'Edie Falco',\n",
       " 'Ehud Olmert',\n",
       " 'Eliot Spitzer',\n",
       " 'Eliza Dushku',\n",
       " 'Eva Mendes',\n",
       " 'Faith Hill',\n",
       " 'Famke Janssen',\n",
       " 'Gael Garcia Bernal',\n",
       " 'Gene Hackman',\n",
       " 'George Clooney',\n",
       " 'George W Bush',\n",
       " 'Gillian Anderson',\n",
       " 'Gisele Bundchen',\n",
       " 'Gordon Brown',\n",
       " 'Gwyneth Paltrow',\n",
       " 'Halle Berry',\n",
       " 'Harrison Ford',\n",
       " 'Holly Hunter',\n",
       " 'Hugh Grant',\n",
       " 'Hugh Jackman',\n",
       " 'Hugh Laurie',\n",
       " 'Jack Nicholson',\n",
       " 'James Franco',\n",
       " 'James Gandolfini',\n",
       " 'James Spader',\n",
       " 'Jared Leto',\n",
       " 'Jason Statham',\n",
       " 'Javier Bardem',\n",
       " 'Jay Leno',\n",
       " 'Jeff Bridges',\n",
       " 'Jennifer Aniston',\n",
       " 'Jennifer Lopez',\n",
       " 'Jennifer Love Hewitt',\n",
       " 'Jeri Ryan',\n",
       " 'Jerry Seinfeld',\n",
       " 'Jessica Alba',\n",
       " 'Jessica Simpson',\n",
       " 'Jimmy Carter',\n",
       " 'Joaquin Phoenix',\n",
       " 'Jodie Foster',\n",
       " 'John Lennon',\n",
       " 'John Malkovich',\n",
       " 'John Travolta',\n",
       " 'Jon Stewart',\n",
       " 'Julia Roberts',\n",
       " 'Julia Stiles',\n",
       " 'Karl Rove',\n",
       " 'Kate Moss',\n",
       " 'Kate Winslet',\n",
       " 'Katherine Heigl',\n",
       " 'Katie Couric',\n",
       " 'Keanu Reeves',\n",
       " 'Keira Knightley',\n",
       " 'Kevin Bacon',\n",
       " 'Kiefer Sutherland',\n",
       " 'Kim Basinger',\n",
       " 'Lance Armstrong',\n",
       " 'Leonardo DiCaprio',\n",
       " 'Liam Neeson',\n",
       " 'Lindsay Lohan',\n",
       " 'Liv Tyler',\n",
       " 'Lucy Liu',\n",
       " 'Mariah Carey',\n",
       " 'Mark Ruffalo',\n",
       " 'Martha Stewart',\n",
       " 'Matt Damon',\n",
       " 'Matthew Broderick',\n",
       " 'Meg Ryan',\n",
       " 'Mel Gibson',\n",
       " 'Meryl Streep',\n",
       " 'Michael Bloomberg',\n",
       " 'Michael Douglas',\n",
       " 'Michelle Trachtenberg',\n",
       " 'Michelle Wie',\n",
       " 'Mickey Rourke',\n",
       " 'Mikhail Gorbachev',\n",
       " 'Miley Cyrus',\n",
       " 'Milla Jovovich',\n",
       " 'Minnie Driver',\n",
       " 'Monica Bellucci',\n",
       " 'Morgan Freeman',\n",
       " 'Nathan Lane',\n",
       " 'Nicolas Cage',\n",
       " 'Nicolas Sarkozy',\n",
       " 'Nicole Kidman',\n",
       " 'Nicole Richie',\n",
       " 'Noah Wyle',\n",
       " 'Oprah Winfrey',\n",
       " 'Orlando Bloom',\n",
       " 'Owen Wilson',\n",
       " 'Philip Seymour Hoffman',\n",
       " 'Quincy Jones',\n",
       " 'Rachael Ray',\n",
       " 'Ralph Nader',\n",
       " 'Ray Romano',\n",
       " 'Reese Witherspoon',\n",
       " 'Renee Zellweger',\n",
       " 'Ricky Martin',\n",
       " 'Robert Downey Jr',\n",
       " 'Robert Gates',\n",
       " 'Rod Stewart',\n",
       " 'Rosario Dawson',\n",
       " 'Rosie Perez',\n",
       " 'Russell Crowe',\n",
       " 'Ryan Seacrest',\n",
       " 'Salma Hayek',\n",
       " 'Sania Mirza',\n",
       " 'Sarah Chalke',\n",
       " 'Sarah Palin',\n",
       " 'Scarlett Johansson',\n",
       " 'Seth Rogen',\n",
       " 'Shahrukh Khan',\n",
       " 'Shakira',\n",
       " 'Shania Twain',\n",
       " 'Sharon Stone',\n",
       " 'Shinzo Abe',\n",
       " 'Sigourney Weaver',\n",
       " 'Silvio Berlusconi',\n",
       " 'Simon Cowell',\n",
       " 'Stephen Colbert',\n",
       " 'Stephen Fry',\n",
       " 'Steve Carell',\n",
       " 'Steve Martin',\n",
       " 'Steven Spielberg',\n",
       " 'Susan Sarandon',\n",
       " 'Tiger Woods',\n",
       " 'Tina Fey',\n",
       " 'Tom Cruise',\n",
       " 'Tom Hanks',\n",
       " 'Tony Blair',\n",
       " 'Tracy Morgan',\n",
       " 'Ty Pennington',\n",
       " 'Tyra Banks',\n",
       " 'Uma Thurman',\n",
       " 'Victoria Beckham',\n",
       " 'Viggo Mortensen',\n",
       " 'William Macy',\n",
       " 'Will Smith',\n",
       " 'Wilmer Valderrama',\n",
       " 'Zac Efron',\n",
       " 'Zach Braff']"
      ]
     },
     "execution_count": 81,
     "metadata": {},
     "output_type": "execute_result"
    }
   ],
   "source": [
    "celebrities"
   ]
  },
  {
   "cell_type": "code",
   "execution_count": 22,
   "metadata": {
    "collapsed": false
   },
   "outputs": [
    {
     "data": {
      "text/plain": [
       "['Male',\n",
       " 'Asian',\n",
       " 'White',\n",
       " 'Black',\n",
       " 'Baby',\n",
       " 'Child',\n",
       " 'Youth',\n",
       " 'Middle Aged',\n",
       " 'Senior',\n",
       " 'Black Hair',\n",
       " 'Blond Hair',\n",
       " 'Brown Hair',\n",
       " 'Bald',\n",
       " 'No Eyewear',\n",
       " 'Eyeglasses',\n",
       " 'Sunglasses',\n",
       " 'Mustache',\n",
       " 'Smiling',\n",
       " 'Frowning',\n",
       " 'Chubby',\n",
       " 'Blurry',\n",
       " 'Harsh Lighting',\n",
       " 'Flash',\n",
       " 'Soft Lighting',\n",
       " 'Outdoor',\n",
       " 'Curly Hair',\n",
       " 'Wavy Hair',\n",
       " 'Straight Hair',\n",
       " 'Receding Hairline',\n",
       " 'Bangs',\n",
       " 'Sideburns',\n",
       " 'Fully Visible Forehead',\n",
       " 'Partially Visible Forehead',\n",
       " 'Obstructed Forehead',\n",
       " 'Bushy Eyebrows',\n",
       " 'Arched Eyebrows',\n",
       " 'Narrow Eyes',\n",
       " 'Eyes Open',\n",
       " 'Big Nose',\n",
       " 'Pointy Nose',\n",
       " 'Big Lips',\n",
       " 'Mouth Closed',\n",
       " 'Mouth Slightly Open',\n",
       " 'Mouth Wide Open',\n",
       " 'Teeth Not Visible',\n",
       " 'No Beard',\n",
       " 'Goatee',\n",
       " 'Round Jaw',\n",
       " 'Double Chin',\n",
       " 'Wearing Hat',\n",
       " 'Oval Face',\n",
       " 'Square Face',\n",
       " 'Round Face',\n",
       " 'Color Photo',\n",
       " 'Posed Photo',\n",
       " 'Attractive Man',\n",
       " 'Attractive Woman',\n",
       " 'Indian',\n",
       " 'Gray Hair',\n",
       " 'Bags Under Eyes',\n",
       " 'Heavy Makeup',\n",
       " 'Rosy Cheeks',\n",
       " 'Shiny Skin',\n",
       " 'Pale Skin',\n",
       " \"5 o' Clock Shadow\",\n",
       " 'Strong Nose-Mouth Lines',\n",
       " 'Wearing Lipstick',\n",
       " 'Flushed Face',\n",
       " 'High Cheekbones',\n",
       " 'Brown Eyes',\n",
       " 'Wearing Earrings',\n",
       " 'Wearing Necktie',\n",
       " 'Wearing Necklace']"
      ]
     },
     "execution_count": 22,
     "metadata": {},
     "output_type": "execute_result"
    }
   ],
   "source": [
    "attribute_names"
   ]
  },
  {
   "cell_type": "code",
   "execution_count": 90,
   "metadata": {
    "collapsed": true
   },
   "outputs": [],
   "source": [
    "with open('attribute_names.txt', 'w') as file:\n",
    "    for item in attribute_names:\n",
    "        file.write(\"%s\\n\" % item)"
   ]
  },
  {
   "cell_type": "code",
   "execution_count": 93,
   "metadata": {
    "collapsed": true
   },
   "outputs": [],
   "source": [
    "writeListToTxt (attribute_names, 'attribute_names.txt')"
   ]
  },
  {
   "cell_type": "code",
   "execution_count": 94,
   "metadata": {
    "collapsed": true
   },
   "outputs": [],
   "source": [
    "writeListToTxt (celebrities, 'celebrities.txt')"
   ]
  },
  {
   "cell_type": "code",
   "execution_count": 89,
   "metadata": {
    "collapsed": true
   },
   "outputs": [],
   "source": [
    "bzPickle(attributes_array, 'attributes')  "
   ]
  },
  {
   "cell_type": "code",
   "execution_count": null,
   "metadata": {
    "collapsed": true
   },
   "outputs": [],
   "source": []
  }
 ],
 "metadata": {
  "anaconda-cloud": {},
  "kernelspec": {
   "display_name": "Python [conda root]",
   "language": "python",
   "name": "conda-root-py"
  },
  "language_info": {
   "codemirror_mode": {
    "name": "ipython",
    "version": 3
   },
   "file_extension": ".py",
   "mimetype": "text/x-python",
   "name": "python",
   "nbconvert_exporter": "python",
   "pygments_lexer": "ipython3",
   "version": "3.5.2"
  }
 },
 "nbformat": 4,
 "nbformat_minor": 2
}
